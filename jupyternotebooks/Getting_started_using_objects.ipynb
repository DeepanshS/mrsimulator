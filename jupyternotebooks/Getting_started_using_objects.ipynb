{
 "cells": [
  {
   "cell_type": "markdown",
   "metadata": {},
   "source": [
    "# Getting started with Mrsimulator: Using objects\n",
    "\n",
    "In the previous section on getting started, we showed an example where we parse python dictionaries to create SpinSystem and Dimension objects. In this section, we’ll illustrate how we can achieve the same result using the core Mrsimulator objects.\n",
    "\n",
    "Let’s start by importing the objects."
   ]
  },
  {
   "cell_type": "code",
   "execution_count": 1,
   "metadata": {},
   "outputs": [],
   "source": [
    "from mrsimulator import Simulator, SpinSystem, Site, Dimension\n",
    "from mrsimulator import SymmetricTensor as st"
   ]
  },
  {
   "cell_type": "markdown",
   "metadata": {},
   "source": [
    "**Note**\n",
    "\n",
    "Unlike python dictionary objects from our last example, when using Mrsimulator objects, the attribute value is given as a number rather than a string with a number and a unit. We assume default units for class attributes. To learn more about the default units, please refer to the documentation of the respective class. For the convenience of our users, we have added an attribute, `property_units`, to every class that holds the default unit of the respective class attributes."
   ]
  },
  {
   "cell_type": "markdown",
   "metadata": {},
   "source": [
    "## Site object\n",
    "As the name suggests, a Site object is used in creating sites. For example,"
   ]
  },
  {
   "cell_type": "code",
   "execution_count": 2,
   "metadata": {},
   "outputs": [],
   "source": [
    "C13A = Site(isotope='13C')"
   ]
  },
  {
   "cell_type": "markdown",
   "metadata": {},
   "source": [
    "The above code creates a site with $^{13}$C isotope. Because, no further information is delivered to the site object, other attributes such as the isotropic chemical shift assume their default values."
   ]
  },
  {
   "cell_type": "code",
   "execution_count": 3,
   "metadata": {},
   "outputs": [
    {
     "data": {
      "text/plain": [
       "0"
      ]
     },
     "execution_count": 3,
     "metadata": {},
     "output_type": "execute_result"
    }
   ],
   "source": [
    "C13A.isotropic_chemical_shift # value is given in ppm"
   ]
  },
  {
   "cell_type": "markdown",
   "metadata": {},
   "source": [
    "Here, the isotropic chemical shift is given in ppm. This information is also present in the `property_units` attribute of the instance. For example,"
   ]
  },
  {
   "cell_type": "code",
   "execution_count": 4,
   "metadata": {},
   "outputs": [
    {
     "data": {
      "text/plain": [
       "{'isotropic_chemical_shift': 'ppm'}"
      ]
     },
     "execution_count": 4,
     "metadata": {},
     "output_type": "execute_result"
    }
   ],
   "source": [
    "C13A.property_units"
   ]
  },
  {
   "cell_type": "markdown",
   "metadata": {},
   "source": [
    "Let’s create few more sites."
   ]
  },
  {
   "cell_type": "code",
   "execution_count": 5,
   "metadata": {},
   "outputs": [],
   "source": [
    "C13B = Site(isotope='13C', isotropic_chemical_shift=-10)\n",
    "H1 = Site(isotope='1H', shielding_symmetric=st(zeta=5.1, eta=0.1))\n",
    "O17 = Site(isotope='17O', isotropic_chemical_shift=41.7, quadrupolar=st(Cq=5.15e6, eta=0.21))"
   ]
  },
  {
   "cell_type": "markdown",
   "metadata": {},
   "source": [
    "The site, `C13B`, is the second $^{13}$C site with an isotropic chemical shift of -10 ppm.\n",
    "\n",
    "In creating the site, `H1`, we use the `SymmetricTensor` object to describe a traceless symmetric second-rank irreducible nuclear shielding tensor, using the attributes zeta and eta, respectively. The parameter zeta and eta are defined as per Haeberlen convention and describes the anisotropy and asymmetry parameter of the tensor, respectively. Similarly, the default unit of the attributes from the SymmetricTensor class may be found with the `property_units` attribute, such as"
   ]
  },
  {
   "cell_type": "code",
   "execution_count": 6,
   "metadata": {},
   "outputs": [
    {
     "data": {
      "text/plain": [
       "{'zeta': 'ppm', 'alpha': 'rad', 'beta': 'rad', 'gamma': 'rad'}"
      ]
     },
     "execution_count": 6,
     "metadata": {},
     "output_type": "execute_result"
    }
   ],
   "source": [
    "H1.shielding_symmetric.property_units"
   ]
  },
  {
   "cell_type": "markdown",
   "metadata": {},
   "source": [
    "For site, `O17`, we once again use the SymmetricTensor class, only this time to describe a traceless symmetric second-rank irreducible electric quadrupole tensor, using the attributes Cq and eta, respectively. The parameter Cq is the quadrupole coupling constant, and eta is the asymmetry parameters of the quadrupole tensor, respectively. The default unit of the attributes from the SymmetricTensor class may be found in the `property_units` attribute, such as"
   ]
  },
  {
   "cell_type": "code",
   "execution_count": 7,
   "metadata": {},
   "outputs": [
    {
     "data": {
      "text/plain": [
       "{'Cq': 'Hz', 'alpha': 'rad', 'beta': 'rad', 'gamma': 'rad'}"
      ]
     },
     "execution_count": 7,
     "metadata": {},
     "output_type": "execute_result"
    }
   ],
   "source": [
    "O17.quadrupolar.property_units"
   ]
  },
  {
   "cell_type": "markdown",
   "metadata": {},
   "source": [
    "## SpinSystem object\n",
    "An isotopomer object contains sites and couplings along with the abundance of the respective isotopomer. In this version, we focus on spin systems with a single site, and therefore the couplings are irrelevant.\n",
    "\n",
    "Let’s use the sites we have already created to set up spin systems."
   ]
  },
  {
   "cell_type": "code",
   "execution_count": 8,
   "metadata": {},
   "outputs": [],
   "source": [
    "isotopomer_1 = SpinSystem(name='C13A', sites=[C13A], abundance=20)\n",
    "isotopomer_2 = SpinSystem(name='C13B', sites=[C13B], abundance=56)\n",
    "isotopomer_3 = SpinSystem(name='H1', sites=[H1], abundance=100)\n",
    "isotopomer_4 = SpinSystem(name='O17', sites=[O17], abundance=1)"
   ]
  },
  {
   "cell_type": "markdown",
   "metadata": {},
   "source": [
    "Here we have created four spin systems, each with a single site."
   ]
  },
  {
   "cell_type": "markdown",
   "metadata": {},
   "source": [
    "## Dimension object\n",
    "Likewise, we can create a Dimension object following,"
   ]
  },
  {
   "cell_type": "code",
   "execution_count": 9,
   "metadata": {},
   "outputs": [],
   "source": [
    "dimension_1 = Dimension(isotope='13C', number_of_points=2046, spectral_width=25000)"
   ]
  },
  {
   "cell_type": "markdown",
   "metadata": {},
   "source": [
    "The above dimension, `dimension_1`, is defined to record $^{13}$C resonances over 25 kHz using 2046 points. The unspecified attributes, such as *rotor_frequency*, *rotor_angle*, *magnetic_flux_density*, assume their default value,"
   ]
  },
  {
   "cell_type": "code",
   "execution_count": 10,
   "metadata": {},
   "outputs": [
    {
     "data": {
      "text/plain": [
       "0"
      ]
     },
     "execution_count": 10,
     "metadata": {},
     "output_type": "execute_result"
    }
   ],
   "source": [
    "dimension_1.rotor_frequency # in Hz (static)"
   ]
  },
  {
   "cell_type": "code",
   "execution_count": 11,
   "metadata": {},
   "outputs": [
    {
     "data": {
      "text/plain": [
       "0.9553166"
      ]
     },
     "execution_count": 11,
     "metadata": {},
     "output_type": "execute_result"
    }
   ],
   "source": [
    "dimension_1.rotor_angle # magic angle in rad"
   ]
  },
  {
   "cell_type": "code",
   "execution_count": 12,
   "metadata": {},
   "outputs": [
    {
     "data": {
      "text/plain": [
       "9.4"
      ]
     },
     "execution_count": 12,
     "metadata": {},
     "output_type": "execute_result"
    }
   ],
   "source": [
    "dimension_1.magnetic_flux_density # in T"
   ]
  },
  {
   "cell_type": "markdown",
   "metadata": {},
   "source": [
    "The unit associated with the attributes from the dimension object can be similarly accessed via,"
   ]
  },
  {
   "cell_type": "code",
   "execution_count": 13,
   "metadata": {},
   "outputs": [
    {
     "data": {
      "text/plain": [
       "{'spectral_width': 'Hz',\n",
       " 'reference_offset': 'Hz',\n",
       " 'magnetic_flux_density': 'T',\n",
       " 'rotor_frequency': 'Hz',\n",
       " 'rotor_angle': 'rad'}"
      ]
     },
     "execution_count": 13,
     "metadata": {},
     "output_type": "execute_result"
    }
   ],
   "source": [
    "dimension_1.property_units"
   ]
  },
  {
   "cell_type": "markdown",
   "metadata": {},
   "source": [
    "## Simulator object\n",
    "The use of simulator object is the same as described in the previous section."
   ]
  },
  {
   "cell_type": "code",
   "execution_count": 14,
   "metadata": {},
   "outputs": [],
   "source": [
    "sim = Simulator()\n",
    "# add spin systems\n",
    "sim.spin_systems += [isotopomer_1, isotopomer_2, isotopomer_3, isotopomer_4]\n",
    "# add dimensions\n",
    "sim.dimensions += [dimension_1]"
   ]
  },
  {
   "cell_type": "markdown",
   "metadata": {},
   "source": [
    "## A quick run\n",
    "Let’s import the *one_d_spectrum* method, do a quick run of the simulator, and observe the spectrum. But before, here is the plotting method we’ll use to plot the spectrum for all further examples."
   ]
  },
  {
   "cell_type": "code",
   "execution_count": 15,
   "metadata": {},
   "outputs": [],
   "source": [
    "import matplotlib.pyplot as plt\n",
    "def plot(x, y):\n",
    "    plt.figure(figsize=(4.5, 2.5))\n",
    "    plt.plot(x, y, linewidth=1)\n",
    "    plt.xlim([x.value.max(), x.value.min()])\n",
    "    plt.xlabel(f\"frequency ratio / {str(x.unit)}\")\n",
    "    plt.grid(color='gray', linestyle='--', linewidth=1.0, alpha=0.25)\n",
    "    plt.tight_layout(h_pad=0, w_pad=0, pad=0)"
   ]
  },
  {
   "cell_type": "markdown",
   "metadata": {},
   "source": [
    "And now, a quick run."
   ]
  },
  {
   "cell_type": "code",
   "execution_count": 16,
   "metadata": {},
   "outputs": [
    {
     "data": {
      "image/png": "[encoded data removed]",
      "text/plain": [
       "<Figure size 324x180 with 1 Axes>"
      ]
     },
     "metadata": {
      "needs_background": "light"
     },
     "output_type": "display_data"
    }
   ],
   "source": [
    "from mrsimulator.methods import one_d_spectrum\n",
    "x, y = sim.run(method=one_d_spectrum)\n",
    "plot(x,y)"
   ]
  },
  {
   "cell_type": "markdown",
   "metadata": {},
   "source": [
    "### Tweak the sites and simulate\n",
    "\n",
    "Let’s add shielding tensors to sites `C13A` and `C13B`."
   ]
  },
  {
   "cell_type": "code",
   "execution_count": 17,
   "metadata": {},
   "outputs": [
    {
     "data": {
      "image/png": "[encoded data removed]",
      "text/plain": [
       "<Figure size 324x180 with 1 Axes>"
      ]
     },
     "metadata": {
      "needs_background": "light"
     },
     "output_type": "display_data"
    }
   ],
   "source": [
    "C13A.shielding_symmetric = st(zeta=80, eta=0.5)\n",
    "C13B.shielding_symmetric = st(zeta=-100, eta=0.25)\n",
    "x, y = sim.run(method=one_d_spectrum)\n",
    "plot(x,y)"
   ]
  },
  {
   "cell_type": "markdown",
   "metadata": {},
   "source": [
    "**Note**\n",
    "\n",
    "Because the objects in python are passed as reference, we were able to modify the `C13A` and `C13B Site` objects without having to reassemble the isotopomer or dimension objects."
   ]
  },
  {
   "cell_type": "markdown",
   "metadata": {},
   "source": [
    "### Turn up the rotor frequency and simulate"
   ]
  },
  {
   "cell_type": "code",
   "execution_count": 18,
   "metadata": {},
   "outputs": [
    {
     "data": {
      "image/png": "[encoded data removed]",
      "text/plain": [
       "<Figure size 324x180 with 1 Axes>"
      ]
     },
     "metadata": {
      "needs_background": "light"
     },
     "output_type": "display_data"
    }
   ],
   "source": [
    "dimension_1.rotor_frequency = 1000 # in Hz\n",
    "x, y = sim.run(method=one_d_spectrum)\n",
    "plot(x,y)"
   ]
  },
  {
   "cell_type": "markdown",
   "metadata": {},
   "source": [
    "### Change the rotor angle and simulate"
   ]
  },
  {
   "cell_type": "code",
   "execution_count": 19,
   "metadata": {},
   "outputs": [
    {
     "data": {
      "image/png": "[encoded data removed]",
      "text/plain": [
       "<Figure size 324x180 with 1 Axes>"
      ]
     },
     "metadata": {
      "needs_background": "light"
     },
     "output_type": "display_data"
    }
   ],
   "source": [
    "dimension_1.rotor_angle = 90*3.1415926/180 # 90 degree in radian\n",
    "x, y = sim.run(method=one_d_spectrum)\n",
    "plot(x,y)"
   ]
  },
  {
   "cell_type": "markdown",
   "metadata": {},
   "source": [
    "### Switch to 1H and simulate"
   ]
  },
  {
   "cell_type": "code",
   "execution_count": 20,
   "metadata": {},
   "outputs": [
    {
     "data": {
      "image/png": "[encoded data removed]",
      "text/plain": [
       "<Figure size 324x180 with 1 Axes>"
      ]
     },
     "metadata": {
      "needs_background": "light"
     },
     "output_type": "display_data"
    }
   ],
   "source": [
    "dimension_1.isotope = '1H'\n",
    "x, y = sim.run(method=one_d_spectrum)\n",
    "plot(x,y)"
   ]
  },
  {
   "cell_type": "markdown",
   "metadata": {},
   "source": [
    "### Switch to 17O and simulate"
   ]
  },
  {
   "cell_type": "code",
   "execution_count": 21,
   "metadata": {},
   "outputs": [
    {
     "data": {
      "image/png": "[encoded data removed]",
      "text/plain": [
       "<Figure size 324x180 with 1 Axes>"
      ]
     },
     "metadata": {
      "needs_background": "light"
     },
     "output_type": "display_data"
    }
   ],
   "source": [
    "dimension_1.isotope = '17O'\n",
    "dimension_1.rotor_angle = 0.9553166 # magic angle is rad\n",
    "dimension_1.rotor_frequency = 15000 # Hz\n",
    "x, y = sim.run(method=one_d_spectrum)\n",
    "plot(x,y)"
   ]
  },
  {
   "cell_type": "code",
   "execution_count": null,
   "metadata": {},
   "outputs": [],
   "source": []
  }
 ],
 "metadata": {
  "kernelspec": {
   "display_name": "Python 3",
   "language": "python",
   "name": "python3"
  },
  "language_info": {
   "codemirror_mode": {
    "name": "ipython",
    "version": 3
   },
   "file_extension": ".py",
   "mimetype": "text/x-python",
   "name": "python",
   "nbconvert_exporter": "python",
   "pygments_lexer": "ipython3",
   "version": "3.7.4"
  }
 },
 "nbformat": 4,
 "nbformat_minor": 4
}
