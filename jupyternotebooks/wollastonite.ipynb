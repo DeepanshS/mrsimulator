{
 "cells": [
  {
   "cell_type": "code",
   "execution_count": 1,
   "metadata": {},
   "outputs": [],
   "source": [
    "from mrsimulator import Simulator, SpinSystem, Site, Dimension\n",
    "from mrsimulator import SymmetricTensor as st\n",
    "from mrsimulator.methods import one_d_spectrum"
   ]
  },
  {
   "cell_type": "code",
   "execution_count": 2,
   "metadata": {},
   "outputs": [],
   "source": [
    "import matplotlib.pyplot as plt\n",
    "def plot(x, y):\n",
    "    plt.figure(figsize=(4.5, 2.5))\n",
    "    plt.plot(x, y, linewidth=1)\n",
    "    plt.xlim([x.value.max(), x.value.min()])\n",
    "    plt.xlabel(f\"frequency ratio / {str(x.unit)}\")\n",
    "    plt.grid(color='gray', linestyle='--', linewidth=1.0, alpha=0.25)\n",
    "    plt.tight_layout(h_pad=0, w_pad=0, pad=0)"
   ]
  },
  {
   "cell_type": "markdown",
   "metadata": {},
   "source": [
    "# Wollastonite\n",
    "\n",
    "Wollastonite is a high-temperature calcium-silicate, 𝛽−Ca$_3$Si$_3$O$_9$, with three distinct $^{29}$Si sites. The $^{29}$Si shielding tensor parameters were obtained from [Hansen et. al](https://pubs.acs.org/doi/10.1021/ic020647f)."
   ]
  },
  {
   "cell_type": "markdown",
   "metadata": {},
   "source": [
    "**Step 1** Create sites."
   ]
  },
  {
   "cell_type": "code",
   "execution_count": 3,
   "metadata": {},
   "outputs": [],
   "source": [
    "S29_1 = Site(name='Q21', isotope='29Si', isotropic_chemical_shift=-89.0, shielding_symmetric={'zeta': 59.8, 'eta': 0.62})\n",
    "S29_2 = Site(name='Q22', isotope='29Si', isotropic_chemical_shift=-89.5, shielding_symmetric={'zeta': 52.1, 'eta': 0.68})\n",
    "S29_3 = Site(name='Q23', isotope='29Si', isotropic_chemical_shift=-87.8, shielding_symmetric={'zeta': 69.4, 'eta': 0.60})"
   ]
  },
  {
   "cell_type": "markdown",
   "metadata": {},
   "source": [
    "**Step 2** Create spin systems from these sites."
   ]
  },
  {
   "cell_type": "code",
   "execution_count": 4,
   "metadata": {},
   "outputs": [],
   "source": [
    "spin_systems = [SpinSystem(sites=[site]) for site in [S29_1, S29_2, S29_3]]"
   ]
  },
  {
   "cell_type": "markdown",
   "metadata": {},
   "source": [
    "**Step 3** Create a dimension."
   ]
  },
  {
   "cell_type": "code",
   "execution_count": 5,
   "metadata": {},
   "outputs": [],
   "source": [
    "dimension = Dimension(\n",
    "    isotope='29Si',\n",
    "    magnetic_flux_density=14.1, # in T\n",
    "    number_of_points=2046,\n",
    "    spectral_width=25000, # in Hz\n",
    "    reference_offset=-10000, # in Hz\n",
    "    rotor_frequency=1500 # in Hz\n",
    ")"
   ]
  },
  {
   "cell_type": "markdown",
   "metadata": {},
   "source": [
    "**Step 4** Create the Simulator object and add dimension and isotopomer objects."
   ]
  },
  {
   "cell_type": "code",
   "execution_count": 6,
   "metadata": {},
   "outputs": [],
   "source": [
    "sim_wollastonite = Simulator()\n",
    "sim_wollastonite.spin_systems = spin_systems\n",
    "sim_wollastonite.dimensions = [dimension]"
   ]
  },
  {
   "cell_type": "markdown",
   "metadata": {},
   "source": [
    "**Step 5** Simulate and plot."
   ]
  },
  {
   "cell_type": "code",
   "execution_count": 7,
   "metadata": {},
   "outputs": [
    {
     "data": {
      "image/png": "[encoded data removed]",
      "text/plain": [
       "<Figure size 324x180 with 1 Axes>"
      ]
     },
     "metadata": {
      "needs_background": "light"
     },
     "output_type": "display_data"
    }
   ],
   "source": [
    "x, y = sim_wollastonite.run(method=one_d_spectrum)\n",
    "plot(x,y)\n",
    "plt.show()"
   ]
  },
  {
   "cell_type": "code",
   "execution_count": null,
   "metadata": {},
   "outputs": [],
   "source": []
  }
 ],
 "metadata": {
  "kernelspec": {
   "display_name": "Python 3",
   "language": "python",
   "name": "python3"
  },
  "language_info": {
   "codemirror_mode": {
    "name": "ipython",
    "version": 3
   },
   "file_extension": ".py",
   "mimetype": "text/x-python",
   "name": "python",
   "nbconvert_exporter": "python",
   "pygments_lexer": "ipython3",
   "version": "3.7.4"
  }
 },
 "nbformat": 4,
 "nbformat_minor": 4
}
