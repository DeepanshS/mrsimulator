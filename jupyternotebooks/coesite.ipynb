{
 "cells": [
  {
   "cell_type": "code",
   "execution_count": 1,
   "metadata": {},
   "outputs": [],
   "source": [
    "from mrsimulator import Simulator, SpinSystem, Site, Dimension\n",
    "from mrsimulator import SymmetricTensor as st\n",
    "from mrsimulator.methods import one_d_spectrum"
   ]
  },
  {
   "cell_type": "code",
   "execution_count": 2,
   "metadata": {},
   "outputs": [],
   "source": [
    "import matplotlib.pyplot as plt\n",
    "def plot(x, y):\n",
    "    plt.figure(figsize=(4.5, 2.5))\n",
    "    plt.plot(x, y, linewidth=1)\n",
    "    plt.xlim([x.value.max(), x.value.min()])\n",
    "    plt.xlabel(f\"frequency ratio / {str(x.unit)}\")\n",
    "    plt.grid(color='gray', linestyle='--', linewidth=1.0, alpha=0.25)\n",
    "    plt.tight_layout(h_pad=0, w_pad=0, pad=0)"
   ]
  },
  {
   "cell_type": "markdown",
   "metadata": {},
   "source": [
    "# Coesite\n",
    "\n",
    "Coesite is a high-pressure (2-3 GPa) and high-temperature (700°C) polymorph of silicon dioxide SiO$_2$. Coesite has five distinct $^{17}$O sites. We use the $^{17}$O tensor information from [Grandinetti et. al.](https://pubs.acs.org/doi/abs/10.1021/j100032a045)\n",
    "\n",
    "**Step 1** Create sites."
   ]
  },
  {
   "cell_type": "code",
   "execution_count": 3,
   "metadata": {},
   "outputs": [],
   "source": [
    "O17_1 = Site(name='O1', isotope='17O', isotropic_chemical_shift=29, quadrupolar=st(Cq=6.05e6, eta=0.000))\n",
    "O17_2 = Site(name='O2', isotope='17O', isotropic_chemical_shift=41, quadrupolar=st(Cq=5.43e6, eta=0.166))\n",
    "O17_3 = Site(name='O3', isotope='17O', isotropic_chemical_shift=57, quadrupolar=st(Cq=5.45e6, eta=0.168))\n",
    "O17_4 = Site(name='O4', isotope='17O', isotropic_chemical_shift=53, quadrupolar=st(Cq=5.52e6, eta=0.169))\n",
    "O17_5 = Site(name='O5', isotope='17O', isotropic_chemical_shift=58, quadrupolar=st(Cq=5.16e6, eta=0.292))"
   ]
  },
  {
   "cell_type": "markdown",
   "metadata": {},
   "source": [
    "**Step 2** Create spin systems using the sites."
   ]
  },
  {
   "cell_type": "code",
   "execution_count": 4,
   "metadata": {},
   "outputs": [],
   "source": [
    "sites = [O17_1, O17_2, O17_3, O17_4, O17_5]\n",
    "abundance = [0.83, 1.05, 2.16, 2.05, 1.90] # abundance of each isotopomer\n",
    "spin_systems = [SpinSystem(sites=[s], abundance=a) for s, a in zip(sites, abundance)]"
   ]
  },
  {
   "cell_type": "markdown",
   "metadata": {},
   "source": [
    "**Step 3** Create a dimension."
   ]
  },
  {
   "cell_type": "code",
   "execution_count": 5,
   "metadata": {},
   "outputs": [],
   "source": [
    "dimension = Dimension(\n",
    "    isotope='17O',\n",
    "    number_of_points=2046,\n",
    "    spectral_width=50000, # in Hz\n",
    "    rotor_frequency=14000, # in Hz\n",
    ")"
   ]
  },
  {
   "cell_type": "markdown",
   "metadata": {},
   "source": [
    "The above dimension is set up to record the $^{17}$O resonances at the magic angle, spinning at 14 kHz at 9.4 T external magnetic flux density. The resonances are recorded over 50 kHz using 2046 points. You may also request a full description of the dimension object using the `to_dict_with_units()` method."
   ]
  },
  {
   "cell_type": "code",
   "execution_count": 6,
   "metadata": {},
   "outputs": [
    {
     "data": {
      "text/plain": [
       "{'number_of_points': 2046,\n",
       " 'spectral_width': '50000.0 Hz',\n",
       " 'reference_offset': '0 Hz',\n",
       " 'magnetic_flux_density': '9.4 T',\n",
       " 'rotor_frequency': '14000.0 Hz',\n",
       " 'rotor_angle': '0.9553166 rad',\n",
       " 'isotope': '17O',\n",
       " 'label': ''}"
      ]
     },
     "execution_count": 6,
     "metadata": {},
     "output_type": "execute_result"
    }
   ],
   "source": [
    "dimension.to_dict_with_units()"
   ]
  },
  {
   "cell_type": "markdown",
   "metadata": {},
   "source": [
    "**Step 4** Create the Simulator object and add dimension and isotopomer objects."
   ]
  },
  {
   "cell_type": "code",
   "execution_count": 7,
   "metadata": {},
   "outputs": [],
   "source": [
    "sim_coesite = Simulator()\n",
    "sim_coesite.spin_systems += spin_systems\n",
    "sim_coesite.dimensions += [dimension]"
   ]
  },
  {
   "cell_type": "markdown",
   "metadata": {},
   "source": [
    "**Step 5** Simulate and plot."
   ]
  },
  {
   "cell_type": "code",
   "execution_count": 8,
   "metadata": {},
   "outputs": [
    {
     "data": {
      "image/png": "[encoded data removed]",
      "text/plain": [
       "<Figure size 324x180 with 1 Axes>"
      ]
     },
     "metadata": {
      "needs_background": "light"
     },
     "output_type": "display_data"
    }
   ],
   "source": [
    "x, y = sim_coesite.run(method=one_d_spectrum)\n",
    "plot(x,y)\n",
    "plt.show()"
   ]
  },
  {
   "cell_type": "code",
   "execution_count": null,
   "metadata": {},
   "outputs": [],
   "source": []
  }
 ],
 "metadata": {
  "kernelspec": {
   "display_name": "Python 3",
   "language": "python",
   "name": "python3"
  },
  "language_info": {
   "codemirror_mode": {
    "name": "ipython",
    "version": 3
   },
   "file_extension": ".py",
   "mimetype": "text/x-python",
   "name": "python",
   "nbconvert_exporter": "python",
   "pygments_lexer": "ipython3",
   "version": "3.7.4"
  }
 },
 "nbformat": 4,
 "nbformat_minor": 4
}
