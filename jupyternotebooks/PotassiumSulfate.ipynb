{
 "cells": [
  {
   "cell_type": "code",
   "execution_count": 1,
   "metadata": {},
   "outputs": [],
   "source": [
    "from mrsimulator import Simulator, SpinSystem, Site, Dimension\n",
    "from mrsimulator import SymmetricTensor as st\n",
    "from mrsimulator.methods import one_d_spectrum"
   ]
  },
  {
   "cell_type": "code",
   "execution_count": 2,
   "metadata": {},
   "outputs": [],
   "source": [
    "import matplotlib.pyplot as plt\n",
    "def plot(x, y):\n",
    "    plt.figure(figsize=(4, 3))\n",
    "    plt.plot(x, y, linewidth=1)\n",
    "    plt.xlim([x.value.max(), x.value.min()])\n",
    "    plt.xlabel(f\"frequency ratio / {str(x.unit)}\")\n",
    "    plt.grid(color='gray', linestyle='--', linewidth=1.0, alpha=0.25)\n",
    "    plt.tight_layout(h_pad=0, w_pad=0, pad=0)"
   ]
  },
  {
   "cell_type": "markdown",
   "metadata": {},
   "source": [
    "# Potassium Sulfate\n",
    "\n",
    "The following example is a $^{33}$S NMR lineshape simulation of potassium sulfate (K$_2$SO$_4$). The quadrupole tensor parameters for $^{33}$S is obtained from [Moudrakovski et. al.](https://pubs.acs.org/doi/10.1021/jp908206c)\n",
    "\n",
    "**Step 1** Create sites, in this case, just the one."
   ]
  },
  {
   "cell_type": "code",
   "execution_count": 3,
   "metadata": {},
   "outputs": [],
   "source": [
    "S33 = Site(\n",
    "    name='33S',\n",
    "    isotope='33S',\n",
    "    isotropic_chemical_shift=335.7,\n",
    "    quadrupolar=st(Cq=0.959e6, eta=0.42)\n",
    ")"
   ]
  },
  {
   "cell_type": "markdown",
   "metadata": {},
   "source": [
    "**Step 2** Create spin systems from this site."
   ]
  },
  {
   "cell_type": "code",
   "execution_count": 4,
   "metadata": {},
   "outputs": [],
   "source": [
    "spin_systems = SpinSystem(sites=[S33])"
   ]
  },
  {
   "cell_type": "markdown",
   "metadata": {},
   "source": [
    "**Step 3** Create a dimension."
   ]
  },
  {
   "cell_type": "code",
   "execution_count": 5,
   "metadata": {},
   "outputs": [],
   "source": [
    "dimension = Dimension(\n",
    "    isotope='33S',\n",
    "    magnetic_flux_density=21.14, # in T\n",
    "    number_of_points=2048,\n",
    "    spectral_width=5000, # in T\n",
    "    reference_offset=22500, # in T\n",
    "    rotor_frequency=14000 # in T\n",
    ")"
   ]
  },
  {
   "cell_type": "markdown",
   "metadata": {},
   "source": [
    "**Step 4** Create the Simulator object and add dimension and isotopomer object."
   ]
  },
  {
   "cell_type": "code",
   "execution_count": 6,
   "metadata": {},
   "outputs": [],
   "source": [
    "sim_K2SO3 = Simulator()\n",
    "sim_K2SO3.spin_systems += [spin_systems]\n",
    "sim_K2SO3.dimensions += [dimension]"
   ]
  },
  {
   "cell_type": "markdown",
   "metadata": {},
   "source": [
    "**Step 5** Simulate and plot."
   ]
  },
  {
   "cell_type": "code",
   "execution_count": 7,
   "metadata": {},
   "outputs": [
    {
     "data": {
      "image/png": "[encoded data removed]",
      "text/plain": [
       "<Figure size 288x216 with 1 Axes>"
      ]
     },
     "metadata": {
      "needs_background": "light"
     },
     "output_type": "display_data"
    }
   ],
   "source": [
    "x, y = sim_K2SO3.run(method=one_d_spectrum)\n",
    "plot(x,y)\n",
    "plt.show()"
   ]
  },
  {
   "cell_type": "code",
   "execution_count": null,
   "metadata": {},
   "outputs": [],
   "source": []
  }
 ],
 "metadata": {
  "kernelspec": {
   "display_name": "Python 3",
   "language": "python",
   "name": "python3"
  },
  "language_info": {
   "codemirror_mode": {
    "name": "ipython",
    "version": 3
   },
   "file_extension": ".py",
   "mimetype": "text/x-python",
   "name": "python",
   "nbconvert_exporter": "python",
   "pygments_lexer": "ipython3",
   "version": "3.7.4"
  }
 },
 "nbformat": 4,
 "nbformat_minor": 4
}
