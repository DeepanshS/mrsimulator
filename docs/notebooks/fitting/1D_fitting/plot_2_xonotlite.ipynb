{
  "cells": [
    {
      "cell_type": "code",
      "execution_count": null,
      "metadata": {
        "collapsed": false
      },
      "outputs": [],
      "source": [
        "# This cell is added by sphinx-gallery\n\n%matplotlib inline\n\nimport mrsimulator\nprint(f'You are using mrsimulator v{mrsimulator.__version__}')"
      ]
    },
    {
      "cell_type": "markdown",
      "metadata": {},
      "source": [
        "\n# 29Si 1D MAS spinning sideband (Xonotlite)\n"
      ]
    },
    {
      "cell_type": "markdown",
      "metadata": {},
      "source": [
        "The following is a spinning sideband fitting example for $^{29}\\text{Si}$ 1D\nMAS NMR spectrum of Xonotlite crystal, acquired by by Hansen et al. [#f1]_\n\n"
      ]
    },
    {
      "cell_type": "code",
      "execution_count": null,
      "metadata": {
        "collapsed": false
      },
      "outputs": [],
      "source": [
        "import csdmpy as cp\nimport matplotlib as mpl\nimport matplotlib.pyplot as plt\nimport mrsimulator.signal_processing as sp\nimport mrsimulator.signal_processing.apodization as apo\nfrom mrsimulator import Simulator, SpinSystem, Site\nfrom mrsimulator.methods import BlochDecaySpectrum\nfrom lmfit import Minimizer, fit_report\nfrom mrsimulator.utils import get_spectral_dimensions\nfrom mrsimulator.utils.spectral_fitting import LMFIT_min_function, make_LMFIT_params\n\nfont = {\"size\": 9}\nmpl.rc(\"font\", **font)\nmpl.rcParams[\"figure.figsize\"] = [4.5, 3.0]\nmpl.rcParams[\"grid.linestyle\"] = \"--\""
      ]
    },
    {
      "cell_type": "markdown",
      "metadata": {},
      "source": [
        "## Import the dataset\nUse the `csdmpy <https://csdmpy.readthedocs.io/en/stable/index.html>`_\nmodule to load the synthetic dataset as a CSDM object.\n\n"
      ]
    },
    {
      "cell_type": "code",
      "execution_count": null,
      "metadata": {
        "collapsed": false
      },
      "outputs": [],
      "source": [
        "filename = \"xonotlite.csdf\"\nexp_data = cp.load(filename).real\n\n# standard deviation of noise from the dataset\nsigma = 2.819601\n\n# convert the dimension coordinates from Hz to ppm\nexp_data.dimensions[0].to(\"ppm\", \"nmr_frequency_ratio\")\n\n# Normalize the spectrum\nmax_amp = exp_data.max()\nexp_data /= max_amp\nsigma /= max_amp\n\n# Plot of the synthetic dataset.\nax = plt.subplot(projection=\"csdm\")\nax.plot(exp_data, \"k\", alpha=0.5)\nax.invert_xaxis()\nplt.tight_layout()\nplt.show()"
      ]
    },
    {
      "cell_type": "markdown",
      "metadata": {},
      "source": [
        "## Create a fitting model\n**Guess model**\n\nCreate a guess list of spin systems. There are three crystallographic\n$^{29}\\text{Si}$ sites in Xonotlite.\n\n"
      ]
    },
    {
      "cell_type": "code",
      "execution_count": null,
      "metadata": {
        "collapsed": false
      },
      "outputs": [],
      "source": [
        "s1 = Site(\n    isotope=\"29Si\",\n    isotropic_chemical_shift=-97.17,  # in ppm,\n    shielding_symmetric={\"zeta\": 33, \"eta\": 0.01},  # zeta in ppm\n)\ns2 = Site(\n    isotope=\"29Si\",\n    isotropic_chemical_shift=-86.3,  # in ppm,\n    shielding_symmetric={\"zeta\": 50.0, \"eta\": 0.5},  # zeta in ppm\n)\ns3 = Site(\n    isotope=\"29Si\",\n    isotropic_chemical_shift=-87.2,  # in ppm,\n    shielding_symmetric={\"zeta\": 44.0, \"eta\": 0.5},  # zeta in ppm\n)\nspin_systems = [\n    SpinSystem(name=\"Q3\", sites=[s1], abundance=25),\n    SpinSystem(name=\"Q2 (1)\", sites=[s2], abundance=75 / 2),\n    SpinSystem(name=\"Q2 (2)\", sites=[s3], abundance=75 / 2),\n]"
      ]
    },
    {
      "cell_type": "markdown",
      "metadata": {},
      "source": [
        "**Method**\n\n"
      ]
    },
    {
      "cell_type": "code",
      "execution_count": null,
      "metadata": {
        "collapsed": false
      },
      "outputs": [],
      "source": [
        "# Get the spectral dimension paramters from the experiment.\nspectral_dims = get_spectral_dimensions(exp_data)\n\nmethod = BlochDecaySpectrum(\n    channels=[\"29Si\"],\n    magnetic_flux_density=14.1,  # in T\n    rotor_frequency=1800.0,  # in Hz\n    spectral_dimensions=spectral_dims,\n    experiment=exp_data,  # add the measurement to the method.\n)\n\n# Optimize the script by pre-setting the transition pathways for each spin system from\n# the das method.\nfor sys in spin_systems:\n    sys.transition_pathways = method.get_transition_pathways(sys)"
      ]
    },
    {
      "cell_type": "markdown",
      "metadata": {},
      "source": [
        "**Guess Spectrum**\n\n"
      ]
    },
    {
      "cell_type": "code",
      "execution_count": null,
      "metadata": {
        "collapsed": false
      },
      "outputs": [],
      "source": [
        "# Simulation\n# ----------\nsim = Simulator()\nsim.spin_systems = spin_systems\nsim.methods = [method]\nsim.run()\n\n# Post Simulation Processing\n# --------------------------\nprocessor = sp.SignalProcessor(\n    operations=[\n        sp.IFFT(),  # inverse FFT to convert frequency based spectrum to time domain.\n        apo.Exponential(FWHM=\"50 Hz\"),  # apodization of time domain signal.\n        sp.FFT(),  # forward FFT to convert time domain signal to frequency spectrum.\n        sp.Scale(factor=0.6),  # scale the frequency spectrum.\n    ]\n)\nprocessed_data = processor.apply_operations(data=sim.methods[0].simulation).real\n\n# Plot of the guess Spectrum\n# --------------------------\nax = plt.subplot(projection=\"csdm\")\nax.plot(exp_data, \"k\", linewidth=1, label=\"Experiment\")\nax.plot(processed_data, \"r\", alpha=0.5, linewidth=2.5, label=\"guess spectrum\")\nax.invert_xaxis()\nplt.legend()\nplt.grid()\nplt.tight_layout()\nplt.show()"
      ]
    },
    {
      "cell_type": "markdown",
      "metadata": {},
      "source": [
        "## Least-squares minimization with LMFIT\nUse the :func:`~mrsimulator.utils.spectral_fitting.make_LMFIT_params` for a quick\nsetup of the fitting parameters.\n\n"
      ]
    },
    {
      "cell_type": "code",
      "execution_count": null,
      "metadata": {
        "collapsed": false
      },
      "outputs": [],
      "source": [
        "params = make_LMFIT_params(sim, processor)\n\nparams.pop(\"sys_0_abundance\")\nparams.pop(\"sys_1_abundance\")\nparams.pop(\"sys_2_abundance\")\nparams[\"sys_0_site_0_shielding_symmetric_eta\"].vary = False\nprint(params.pretty_print(columns=[\"value\", \"min\", \"max\", \"vary\", \"expr\"]))"
      ]
    },
    {
      "cell_type": "markdown",
      "metadata": {},
      "source": [
        "**Solve the minimizer using LMFIT**\n\n"
      ]
    },
    {
      "cell_type": "code",
      "execution_count": null,
      "metadata": {
        "collapsed": false
      },
      "outputs": [],
      "source": [
        "minner = Minimizer(LMFIT_min_function, params, fcn_args=(sim, processor, sigma))\nresult = minner.minimize()\nprint(fit_report(result))"
      ]
    },
    {
      "cell_type": "markdown",
      "metadata": {},
      "source": [
        "## The best fit solution\n\n"
      ]
    },
    {
      "cell_type": "code",
      "execution_count": null,
      "metadata": {
        "collapsed": false
      },
      "outputs": [],
      "source": [
        "sim.run()\nprocessed_data = processor.apply_operations(data=sim.methods[0].simulation).real\n\n# Plot the spectrum\nax = plt.subplot(projection=\"csdm\")\nplt.plot(exp_data, \"k\", linewidth=1, label=\"Experiment\")\nplt.plot(processed_data, \"r\", alpha=0.5, linewidth=2.5, label=\"Best Fit\")\nplt.xlabel(\"$^{17}$O frequency / ppm\")\nplt.legend()\nplt.grid()\nplt.tight_layout()\nplt.show()"
      ]
    },
    {
      "cell_type": "markdown",
      "metadata": {},
      "source": [
        "## Mpcontribs export\n\nExport the site data as Mpcontribs card.\n\n"
      ]
    },
    {
      "cell_type": "code",
      "execution_count": null,
      "metadata": {
        "collapsed": false
      },
      "outputs": [],
      "source": [
        "from mrsimulator.contribs import mpcontribs_export\nfrom pprint import pprint\n\ncards = mpcontribs_export(\n    sim,\n    project=\"lsdi_nmr_exp_test\",\n    identifier=\"Ca6Si6O17(OH)2\",\n    exp_dict={\n        \"90degreePulseLength\": \"6 \u00b5s\",\n        \"relaxationDelay\": \"8 s\",\n        \"numberOfScans\": 7224,\n        \"referenceCompound\": \"TMS\",\n    },\n)\npprint(cards[0])"
      ]
    },
    {
      "cell_type": "markdown",
      "metadata": {},
      "source": [
        ".. [#f1] Hansen, M. R., Jakobsen, H. J., Skibsted, J., $^{29}\\text{Si}$\n      Chemical Shift Anisotropies in Calcium Silicates from High-Field\n      $^{29}\\text{Si}$ MAS NMR Spectroscopy, Inorg. Chem. 2003,\n      **42**, *7*, 2368-2377.\n      `DOI: 10.1021/ic020647f <https://doi.org/10.1021/ic020647f>`_\n\n"
      ]
    }
  ],
  "metadata": {
    "kernelspec": {
      "display_name": "Python 3",
      "language": "python",
      "name": "python3"
    },
    "language_info": {
      "codemirror_mode": {
        "name": "ipython",
        "version": 3
      },
      "file_extension": ".py",
      "mimetype": "text/x-python",
      "name": "python",
      "nbconvert_exporter": "python",
      "pygments_lexer": "ipython3",
      "version": "3.8.5"
    }
  },
  "nbformat": 4,
  "nbformat_minor": 0
}